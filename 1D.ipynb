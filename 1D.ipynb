{
 "cells": [
  {
   "cell_type": "markdown",
   "id": "fea94d46-309a-4527-865b-814d8d772180",
   "metadata": {},
   "source": [
    "# A 1D diffusion model"
   ]
  },
  {
   "cell_type": "markdown",
   "id": "b69cc8af-9111-4c45-bb79-de48490d355b",
   "metadata": {},
   "source": [
    "Here we develop a one-dimensional model of diffusion.\n",
    "It assumes a constant diffusivility.\n",
    "It uses a regular grid.\n",
    "It has a step function for an initial condition.\n",
    "It has fixed boundary conditions."
   ]
  },
  {
   "cell_type": "markdown",
   "id": "9e84fe1a-abf7-4966-880c-1ca6db195c90",
   "metadata": {},
   "source": [
    "Here is the diffusion equation:"
   ]
  },
  {
   "cell_type": "markdown",
   "id": "39edbfa5-5b62-4a2f-a4d7-65c0f5509a8e",
   "metadata": {},
   "source": [
    "$$ \\frac{\\partial C}{\\partial t} = D\\frac{\\partial^2 C}{\\partial x^2} $$ "
   ]
  },
  {
   "cell_type": "markdown",
   "id": "c5cd6e9a-d0c0-4da4-9244-239a930ef41f",
   "metadata": {},
   "source": [
    "Here is the discretized version of the diffusion equation we will solve with our model:"
   ]
  },
  {
   "cell_type": "markdown",
   "id": "ff09de0c-9476-4c22-a702-5570dd850496",
   "metadata": {},
   "source": [
    "$$ C^{t+1}_x = C^t_x + {D \\Delta t \\over \\Delta x^2} (C^t_{x+1} - 2C^t_x + C^t_{x-1}) $$"
   ]
  },
  {
   "cell_type": "markdown",
   "id": "3a90097e-2d9a-4d0c-b76e-7e412117d3d1",
   "metadata": {},
   "source": [
    "This is the FTCS scheme as described by Slingerland and Kump (2011)."
   ]
  },
  {
   "cell_type": "markdown",
   "id": "c0a6b182-54fb-4a88-9b09-ab62b9d20f79",
   "metadata": {},
   "source": [
    "We'll use two libraries, NumOy(for arrays) and Matplotlib (for plotting), that aren't a part of the core Python distribution."
   ]
  },
  {
   "cell_type": "code",
   "execution_count": null,
   "id": "b318b0ca-60f1-4db1-9a36-e20419460cf2",
   "metadata": {},
   "outputs": [],
   "source": [
    "import numpy as np\n",
    "import matplotlib.pyplot as plt"
   ]
  },
  {
   "cell_type": "markdown",
   "id": "1d5e8153-4336-44ca-84a6-6879d6a27491",
   "metadata": {},
   "source": [
    "Start by setting two fixed model paramaters, the diffusivity and size of the model domain."
   ]
  },
  {
   "cell_type": "code",
   "execution_count": null,
   "id": "65a08d5b-92ca-4a09-b77c-4860dc7c90d4",
   "metadata": {},
   "outputs": [],
   "source": [
    "D=100\n",
    "Lx=300"
   ]
  },
  {
   "cell_type": "markdown",
   "id": "903dc12f-b8ea-4fbd-88b7-13e9da6fea9f",
   "metadata": {},
   "source": [
    "Next, set up the model grid using a Numpy array."
   ]
  },
  {
   "cell_type": "code",
   "execution_count": null,
   "id": "1d4113a1-bc01-448b-97b8-a847e32722f1",
   "metadata": {},
   "outputs": [],
   "source": [
    "dx=0.5\n",
    "x=np.arange(start=0, stop=Lx, step=dx)\n",
    "nx=len(x)"
   ]
  },
  {
   "cell_type": "markdown",
   "id": "a4d78326-ab19-43de-8dd0-e909f106400c",
   "metadata": {},
   "source": [
    "Set the initial conditions for the model.\n",
    "The cake 'C' is a step function with a high value of the left, a low value on the right, and a step at the center of the domain"
   ]
  },
  {
   "cell_type": "code",
   "execution_count": null,
   "id": "6c99aad9-93eb-4554-aa2a-1517c3be7449",
   "metadata": {},
   "outputs": [],
   "source": [
    "C=np.zeros_like(x)\n",
    "C_left=500\n",
    "C_right=0\n",
    "C[x<=Lx/2]=C_left\n",
    "C[x>Lx/2]=C_right"
   ]
  },
  {
   "cell_type": "markdown",
   "id": "e0cd0094-224c-494a-847e-62bc4a5809a1",
   "metadata": {},
   "source": [
    "Plot the initial profile"
   ]
  },
  {
   "cell_type": "code",
   "execution_count": null,
   "id": "e8904626-c989-432d-820e-554c81ceed8f",
   "metadata": {},
   "outputs": [],
   "source": [
    "plt.figure()\n",
    "plt.plot(x,C,\"g\")\n",
    "plt.xlabel(\"x\")\n",
    "plt.ylabel(\"C\")\n",
    "plt.title(\"Initial profile\")"
   ]
  },
  {
   "cell_type": "markdown",
   "id": "c2ee402c-ede7-40f1-ac07-8364eaacc65d",
   "metadata": {},
   "source": [
    "Set the number of time steps in the model.\n",
    "Calculate a stable time step using a stability criterion."
   ]
  },
  {
   "cell_type": "code",
   "execution_count": null,
   "id": "9036c22b-a5de-44ad-bd4d-82e1a670c0dc",
   "metadata": {},
   "outputs": [],
   "source": [
    "nt=5000\n",
    "dt=0.5*dx**2/D"
   ]
  },
  {
   "cell_type": "markdown",
   "id": "f7a017a8-8b24-4b30-b5b9-9bd2b93336b5",
   "metadata": {},
   "source": [
    "Loop over the time steps of the model, solving the diffusion equation using the FTCS scheme shown above. Note the use of array operations on the variable 'C'. The boundary conditions remain fixed in each time step."
   ]
  },
  {
   "cell_type": "code",
   "execution_count": null,
   "id": "e8d09885-e632-4f6e-92da-3870e4bb8841",
   "metadata": {},
   "outputs": [],
   "source": [
    "for t in range(0, nt):\n",
    "\tC[1:-1] += D * dt / dx ** 2 * (C[:-2] - 2*C[1:-1] + C[2:])"
   ]
  },
  {
   "cell_type": "markdown",
   "id": "161bc3b0-cd87-4192-a7c6-48c3fe1ff2c9",
   "metadata": {},
   "source": [
    "Plot the result."
   ]
  },
  {
   "cell_type": "code",
   "execution_count": null,
   "id": "0a65a655-53af-4c64-a86c-9c5fb8184b14",
   "metadata": {},
   "outputs": [],
   "source": [
    "plt.plot(x,C,\"b\")\n",
    "plt.xlabel(\"x\")\n",
    "plt.ylabel(\"C\")\n",
    "plt.title(\"Final profile\")"
   ]
  }
 ],
 "metadata": {
  "kernelspec": {
   "display_name": "Ivy",
   "language": "python",
   "name": "ivy"
  },
  "language_info": {
   "codemirror_mode": {
    "name": "ipython",
    "version": 3
   },
   "file_extension": ".py",
   "mimetype": "text/x-python",
   "name": "python",
   "nbconvert_exporter": "python",
   "pygments_lexer": "ipython3",
   "version": "3.13.3"
  }
 },
 "nbformat": 4,
 "nbformat_minor": 5
}
